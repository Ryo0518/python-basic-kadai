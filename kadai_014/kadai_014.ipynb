{
  "nbformat": 4,
  "nbformat_minor": 0,
  "metadata": {
    "colab": {
      "provenance": []
    },
    "kernelspec": {
      "name": "python3",
      "display_name": "Python 3"
    },
    "language_info": {
      "name": "python"
    }
  },
  "cells": [
    {
      "cell_type": "code",
      "execution_count": 12,
      "metadata": {
        "colab": {
          "base_uri": "https://localhost:8080/"
        },
        "id": "qLWfJKTUtShC",
        "outputId": "e0023bde-9d3f-4ad6-e163-19d3f94ffee3"
      },
      "outputs": [
        {
          "output_type": "stream",
          "name": "stdout",
          "text": [
            "330.0\n"
          ]
        }
      ],
      "source": [
        "tax = 1.1\n",
        "\n",
        "def total():\n",
        "    price1 = 100\n",
        "    price2 = 200\n",
        "    return price1 + price2\n",
        "\n",
        "print (total() * tax)"
      ]
    }
  ]
}