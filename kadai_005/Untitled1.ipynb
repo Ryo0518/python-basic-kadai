{
  "nbformat": 4,
  "nbformat_minor": 0,
  "metadata": {
    "colab": {
      "provenance": []
    },
    "kernelspec": {
      "name": "python3",
      "display_name": "Python 3"
    },
    "language_info": {
      "name": "python"
    }
  },
  "cells": [
    {
      "cell_type": "code",
      "execution_count": 1,
      "metadata": {
        "colab": {
          "base_uri": "https://localhost:8080/"
        },
        "id": "xHjkxn61X9NX",
        "outputId": "6f36e616-17d9-4140-e162-9cb862d6dc34"
      },
      "outputs": [
        {
          "output_type": "stream",
          "name": "stdout",
          "text": [
            "75.0cm\n"
          ]
        }
      ],
      "source": [
        "upper_base = 10\n",
        "lower_base = 20\n",
        "height = 5\n",
        "\n",
        "area = (upper_base + lower_base) * height / 2\n",
        "\n",
        "print(str(area) + \"cm\")\n"
      ]
    }
  ]
}