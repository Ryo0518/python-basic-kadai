{
  "nbformat": 4,
  "nbformat_minor": 0,
  "metadata": {
    "colab": {
      "provenance": []
    },
    "kernelspec": {
      "name": "python3",
      "display_name": "Python 3"
    },
    "language_info": {
      "name": "python"
    }
  },
  "cells": [
    {
      "cell_type": "code",
      "execution_count": 26,
      "metadata": {
        "colab": {
          "base_uri": "https://localhost:8080/"
        },
        "id": "MrP41QmTamWa",
        "outputId": "de81bc18-4632-4dd1-9501-719cee9edc4f"
      },
      "outputs": [
        {
          "output_type": "stream",
          "name": "stdout",
          "text": [
            "太郎は大人ではありません。\n",
            "二郎は大人です。\n",
            "三郎は大人です。\n",
            "四郎は大人ではありません。\n",
            "五郎は大人です。\n"
          ]
        }
      ],
      "source": [
        "class Human:\n",
        "    def __init__(self, name, age):\n",
        "        self.name = name\n",
        "        self.age = age\n",
        "\n",
        "    def check_adult(self):\n",
        "        if self.age >= 20:\n",
        "          print(f\"{self.name}は大人です。\")\n",
        "        else:\n",
        "          print(f\"{self.name}は大人ではありません。\")\n",
        "\n",
        "#インスタンスを作成\n",
        "user1 = Human(\"太郎\", 15)\n",
        "user2 = Human(\"二郎\", 29)\n",
        "user3 = Human(\"三郎\", 45)\n",
        "user4 = Human(\"四郎\", 6)\n",
        "user5 = Human(\"五郎\", 39)\n",
        "\n",
        "#インスタンスをリストへ追加\n",
        "user_list = [user1, user2, user3, user4, user5]\n",
        "\n",
        "#リストの要素分だけcheck_adultメソッドで呼び出し\n",
        "for i in range(0,5):\n",
        "    user_list[i].check_adult()\n"
      ]
    }
  ]
}