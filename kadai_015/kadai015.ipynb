{
  "nbformat": 4,
  "nbformat_minor": 0,
  "metadata": {
    "colab": {
      "provenance": []
    },
    "kernelspec": {
      "name": "python3",
      "display_name": "Python 3"
    },
    "language_info": {
      "name": "python"
    }
  },
  "cells": [
    {
      "cell_type": "code",
      "execution_count": 6,
      "metadata": {
        "colab": {
          "base_uri": "https://localhost:8080/"
        },
        "id": "ep-Yj8uYpu-L",
        "outputId": "08afa5ad-2108-4230-8fda-f406ae694ef3"
      },
      "outputs": [
        {
          "output_type": "stream",
          "name": "stdout",
          "text": [
            "侍太郎 36\n"
          ]
        }
      ],
      "source": [
        "class Human:\n",
        "  def __init__(self):\n",
        "      self.name = \"\"\n",
        "      self.age = \"\"\n",
        "\n",
        "  def set_info(self, name, age):\n",
        "      self.name = name\n",
        "      self.age = age\n",
        "\n",
        "  def printinfo(self):\n",
        "      print(self.name, self.age)\n",
        "\n",
        "human = Human()\n",
        "\n",
        "human.set_info(\"侍太郎\", 36)\n",
        "human.printinfo()"
      ]
    }
  ]
}